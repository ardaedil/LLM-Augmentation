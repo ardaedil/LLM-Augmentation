{
 "cells": [
  {
   "cell_type": "code",
   "execution_count": 40,
   "metadata": {},
   "outputs": [],
   "source": [
    "import os\n",
    "from langchain_community.document_loaders import PyPDFLoader\n",
    "from langchain.text_splitter import RecursiveCharacterTextSplitter\n",
    "from langchain.embeddings.openai import OpenAIEmbeddings\n",
    "from langchain.vectorstores.faiss import FAISS\n",
    "import numpy as np\n",
    "import openai\n",
    "from langchain_core.output_parsers import StrOutputParser\n",
    "from langchain.prompts import PromptTemplate\n",
    "from langchain_core.runnables import RunnablePassthrough, RunnableParallel\n",
    "from langchain_community.chat_models import ChatOpenAI\n",
    "import yfinance as yf\n",
    "from dotenv import load_dotenv\n"
   ]
  },
  {
   "cell_type": "code",
   "execution_count": 25,
   "metadata": {},
   "outputs": [],
   "source": [
    "def get_yfinance(ticker): \n",
    "    stock = yf.Ticker(ticker)\n",
    "    stock.info\n",
    "    print(stock.info)\n",
    "\n",
    "    # print stock history and metadata\n",
    "    hist = stock.history(period = \"1mo\")\n",
    "    print(stock.history_metadata)\n",
    "    print(hist)\n",
    "\n",
    "    # show actions (dividends, splits, capital gains)\n",
    "    print(stock.actions)\n",
    "    print(stock.dividends)\n",
    "    print(stock.splits)\n",
    "    #stock.capital_gains  only for mutual funds & etfs\n",
    "\n",
    "\n",
    "    # show financials:\n",
    "    print(stock.calendar)\n",
    "    print(stock.sec_filings)\n",
    "    # - income statement\n",
    "    print(stock.income_stmt)\n",
    "    print(stock.quarterly_income_stmt)\n",
    "    # - balance sheet\n",
    "    print(stock.balance_sheet)\n",
    "    print(stock.quarterly_balance_sheet)\n",
    "    # - cash flow statement\n",
    "    print(stock.cashflow)\n",
    "    print(stock.quarterly_cashflow)\n",
    "\n",
    "\n"
   ]
  },
  {
   "cell_type": "code",
   "execution_count": 26,
   "metadata": {},
   "outputs": [],
   "source": [
    "def get_yfinance_data(ticker, period=\"1mo\"):\n",
    "    \"\"\"\n",
    "    Fetches various financial data points for a stock from Yahoo Finance.\n",
    "    \n",
    "    Parameters:\n",
    "    - ticker: str, stock ticker symbol (e.g., \"NVDA\").\n",
    "    - period: str, duration for historical data (default is \"1mo\").\n",
    "    \n",
    "    Returns:\n",
    "    - data: dict, a dictionary containing historical data, actions, financials, and statements.\n",
    "    \"\"\"\n",
    "    stock = yf.Ticker(ticker)\n",
    "    \n",
    "    # Dictionary to store all data for easy access\n",
    "    data = {}\n",
    "    \n",
    "    # Stock metadata\n",
    "    data['info'] = stock.info\n",
    "\n",
    "    # Stock history and metadata\n",
    "    data['history'] = stock.history(period=period)\n",
    "    data['history_metadata'] = stock.history_metadata\n",
    "\n",
    "    # Stock actions\n",
    "    data['actions'] = stock.actions\n",
    "    data['dividends'] = stock.dividends\n",
    "    data['splits'] = stock.splits\n",
    "    \n",
    "    # Financials\n",
    "    data['calendar'] = stock.calendar\n",
    "    data['sec_filings'] = stock.sec_filings\n",
    "    data['income_stmt'] = stock.income_stmt\n",
    "    data['quarterly_income_stmt'] = stock.quarterly_income_stmt\n",
    "    data['balance_sheet'] = stock.balance_sheet\n",
    "    data['quarterly_balance_sheet'] = stock.quarterly_balance_sheet\n",
    "    data['cashflow'] = stock.cashflow\n",
    "    data['quarterly_cashflow'] = stock.quarterly_cashflow\n",
    "\n",
    "    return data"
   ]
  },
  {
   "cell_type": "code",
   "execution_count": 27,
   "metadata": {},
   "outputs": [],
   "source": [
    "nvda_data = get_yfinance_data(\"NVDA\")"
   ]
  },
  {
   "cell_type": "code",
   "execution_count": 28,
   "metadata": {},
   "outputs": [
    {
     "name": "stdout",
     "output_type": "stream",
     "text": [
      "                                                       2024-01-31  \\\n",
      "Tax Effect Of Unusual Items                                   0.0   \n",
      "Tax Rate For Calcs                                           0.12   \n",
      "Normalized EBITDA                                   35583000000.0   \n",
      "Total Unusual Items                                           0.0   \n",
      "Total Unusual Items Excluding Goodwill                        0.0   \n",
      "Net Income From Continuing Operation Net Minori...  29760000000.0   \n",
      "Reconciled Depreciation                              1508000000.0   \n",
      "Reconciled Cost Of Revenue                          16621000000.0   \n",
      "EBITDA                                              35583000000.0   \n",
      "EBIT                                                34075000000.0   \n",
      "Net Interest Income                                   609000000.0   \n",
      "Interest Expense                                      257000000.0   \n",
      "Interest Income                                       866000000.0   \n",
      "Normalized Income                                   29760000000.0   \n",
      "Net Income From Continuing And Discontinued Ope...  29760000000.0   \n",
      "Total Expenses                                      27950000000.0   \n",
      "Total Operating Income As Reported                  32972000000.0   \n",
      "Diluted Average Shares                              24940000000.0   \n",
      "Basic Average Shares                                24690000000.0   \n",
      "Diluted EPS                                                 1.193   \n",
      "Basic EPS                                                   1.205   \n",
      "Diluted NI Availto Com Stockholders                 29760000000.0   \n",
      "Net Income Common Stockholders                      29760000000.0   \n",
      "Net Income                                          29760000000.0   \n",
      "Net Income Including Noncontrolling Interests       29760000000.0   \n",
      "Net Income Continuous Operations                    29760000000.0   \n",
      "Tax Provision                                        4058000000.0   \n",
      "Pretax Income                                       33818000000.0   \n",
      "Other Income Expense                                  237000000.0   \n",
      "Other Non Operating Income Expenses                   237000000.0   \n",
      "Special Income Charges                                        0.0   \n",
      "Restructuring And Mergern Acquisition                         0.0   \n",
      "Net Non Operating Interest Income Expense             609000000.0   \n",
      "Interest Expense Non Operating                        257000000.0   \n",
      "Interest Income Non Operating                         866000000.0   \n",
      "Operating Income                                    32972000000.0   \n",
      "Operating Expense                                   11329000000.0   \n",
      "Research And Development                             8675000000.0   \n",
      "Selling General And Administration                   2654000000.0   \n",
      "Gross Profit                                        44301000000.0   \n",
      "Cost Of Revenue                                     16621000000.0   \n",
      "Total Revenue                                       60922000000.0   \n",
      "Operating Revenue                                   60922000000.0   \n",
      "\n",
      "                                                       2023-01-31  \\\n",
      "Tax Effect Of Unusual Items                          -284130000.0   \n",
      "Tax Rate For Calcs                                           0.21   \n",
      "Normalized EBITDA                                    7340000000.0   \n",
      "Total Unusual Items                                 -1353000000.0   \n",
      "Total Unusual Items Excluding Goodwill              -1353000000.0   \n",
      "Net Income From Continuing Operation Net Minori...   4368000000.0   \n",
      "Reconciled Depreciation                              1544000000.0   \n",
      "Reconciled Cost Of Revenue                          11618000000.0   \n",
      "EBITDA                                               5987000000.0   \n",
      "EBIT                                                 4443000000.0   \n",
      "Net Interest Income                                     5000000.0   \n",
      "Interest Expense                                      262000000.0   \n",
      "Interest Income                                       267000000.0   \n",
      "Normalized Income                                    5436870000.0   \n",
      "Net Income From Continuing And Discontinued Ope...   4368000000.0   \n",
      "Total Expenses                                      21397000000.0   \n",
      "Total Operating Income As Reported                   4224000000.0   \n",
      "Diluted Average Shares                              25070000000.0   \n",
      "Basic Average Shares                                24870000000.0   \n",
      "Diluted EPS                                                 0.174   \n",
      "Basic EPS                                                   0.176   \n",
      "Diluted NI Availto Com Stockholders                  4368000000.0   \n",
      "Net Income Common Stockholders                       4368000000.0   \n",
      "Net Income                                           4368000000.0   \n",
      "Net Income Including Noncontrolling Interests        4368000000.0   \n",
      "Net Income Continuous Operations                     4368000000.0   \n",
      "Tax Provision                                        -187000000.0   \n",
      "Pretax Income                                        4181000000.0   \n",
      "Other Income Expense                                -1401000000.0   \n",
      "Other Non Operating Income Expenses                   -48000000.0   \n",
      "Special Income Charges                              -1353000000.0   \n",
      "Restructuring And Mergern Acquisition                1353000000.0   \n",
      "Net Non Operating Interest Income Expense               5000000.0   \n",
      "Interest Expense Non Operating                        262000000.0   \n",
      "Interest Income Non Operating                         267000000.0   \n",
      "Operating Income                                     5577000000.0   \n",
      "Operating Expense                                    9779000000.0   \n",
      "Research And Development                             7339000000.0   \n",
      "Selling General And Administration                   2440000000.0   \n",
      "Gross Profit                                        15356000000.0   \n",
      "Cost Of Revenue                                     11618000000.0   \n",
      "Total Revenue                                       26974000000.0   \n",
      "Operating Revenue                                   26974000000.0   \n",
      "\n",
      "                                                       2022-01-31  \\\n",
      "Tax Effect Of Unusual Items                                   0.0   \n",
      "Tax Rate For Calcs                                          0.019   \n",
      "Normalized EBITDA                                   11351000000.0   \n",
      "Total Unusual Items                                           0.0   \n",
      "Total Unusual Items Excluding Goodwill                        0.0   \n",
      "Net Income From Continuing Operation Net Minori...   9752000000.0   \n",
      "Reconciled Depreciation                              1174000000.0   \n",
      "Reconciled Cost Of Revenue                           9439000000.0   \n",
      "EBITDA                                              11351000000.0   \n",
      "EBIT                                                10177000000.0   \n",
      "Net Interest Income                                  -207000000.0   \n",
      "Interest Expense                                      236000000.0   \n",
      "Interest Income                                        29000000.0   \n",
      "Normalized Income                                    9752000000.0   \n",
      "Net Income From Continuing And Discontinued Ope...   9752000000.0   \n",
      "Total Expenses                                      16873000000.0   \n",
      "Total Operating Income As Reported                  10041000000.0   \n",
      "Diluted Average Shares                              25350000000.0   \n",
      "Basic Average Shares                                24960000000.0   \n",
      "Diluted EPS                                                 0.385   \n",
      "Basic EPS                                                   0.391   \n",
      "Diluted NI Availto Com Stockholders                  9752000000.0   \n",
      "Net Income Common Stockholders                       9752000000.0   \n",
      "Net Income                                           9752000000.0   \n",
      "Net Income Including Noncontrolling Interests        9752000000.0   \n",
      "Net Income Continuous Operations                     9752000000.0   \n",
      "Tax Provision                                         189000000.0   \n",
      "Pretax Income                                        9941000000.0   \n",
      "Other Income Expense                                  107000000.0   \n",
      "Other Non Operating Income Expenses                   107000000.0   \n",
      "Special Income Charges                                        0.0   \n",
      "Restructuring And Mergern Acquisition                         0.0   \n",
      "Net Non Operating Interest Income Expense            -207000000.0   \n",
      "Interest Expense Non Operating                        236000000.0   \n",
      "Interest Income Non Operating                          29000000.0   \n",
      "Operating Income                                    10041000000.0   \n",
      "Operating Expense                                    7434000000.0   \n",
      "Research And Development                             5268000000.0   \n",
      "Selling General And Administration                   2166000000.0   \n",
      "Gross Profit                                        17475000000.0   \n",
      "Cost Of Revenue                                      9439000000.0   \n",
      "Total Revenue                                       26914000000.0   \n",
      "Operating Revenue                                   26914000000.0   \n",
      "\n",
      "                                                       2021-01-31  \n",
      "Tax Effect Of Unusual Items                                   0.0  \n",
      "Tax Rate For Calcs                                          0.017  \n",
      "Normalized EBITDA                                    5691000000.0  \n",
      "Total Unusual Items                                           0.0  \n",
      "Total Unusual Items Excluding Goodwill                        0.0  \n",
      "Net Income From Continuing Operation Net Minori...   4332000000.0  \n",
      "Reconciled Depreciation                              1098000000.0  \n",
      "Reconciled Cost Of Revenue                           6279000000.0  \n",
      "EBITDA                                               5691000000.0  \n",
      "EBIT                                                 4593000000.0  \n",
      "Net Interest Income                                  -127000000.0  \n",
      "Interest Expense                                      184000000.0  \n",
      "Interest Income                                        57000000.0  \n",
      "Normalized Income                                    4332000000.0  \n",
      "Net Income From Continuing And Discontinued Ope...   4332000000.0  \n",
      "Total Expenses                                      12143000000.0  \n",
      "Total Operating Income As Reported                   4532000000.0  \n",
      "Diluted Average Shares                              25120000000.0  \n",
      "Basic Average Shares                                24680000000.0  \n",
      "Diluted EPS                                                0.1725  \n",
      "Basic EPS                                                  0.1755  \n",
      "Diluted NI Availto Com Stockholders                  4332000000.0  \n",
      "Net Income Common Stockholders                       4332000000.0  \n",
      "Net Income                                           4332000000.0  \n",
      "Net Income Including Noncontrolling Interests        4332000000.0  \n",
      "Net Income Continuous Operations                     4332000000.0  \n",
      "Tax Provision                                          77000000.0  \n",
      "Pretax Income                                        4409000000.0  \n",
      "Other Income Expense                                    4000000.0  \n",
      "Other Non Operating Income Expenses                     4000000.0  \n",
      "Special Income Charges                                        0.0  \n",
      "Restructuring And Mergern Acquisition                         0.0  \n",
      "Net Non Operating Interest Income Expense            -127000000.0  \n",
      "Interest Expense Non Operating                        184000000.0  \n",
      "Interest Income Non Operating                          57000000.0  \n",
      "Operating Income                                     4532000000.0  \n",
      "Operating Expense                                    5864000000.0  \n",
      "Research And Development                             3924000000.0  \n",
      "Selling General And Administration                   1940000000.0  \n",
      "Gross Profit                                        10396000000.0  \n",
      "Cost Of Revenue                                      6279000000.0  \n",
      "Total Revenue                                       16675000000.0  \n",
      "Operating Revenue                                   16675000000.0  \n",
      "                                 Open        High         Low       Close  \\\n",
      "Date                                                                        \n",
      "2024-10-09 00:00:00-04:00  134.110001  134.520004  131.380005  132.649994   \n",
      "2024-10-10 00:00:00-04:00  131.910004  135.000000  131.000000  134.809998   \n",
      "2024-10-11 00:00:00-04:00  134.009995  135.779999  133.660004  134.800003   \n",
      "2024-10-14 00:00:00-04:00  136.470001  139.600006  136.300003  138.070007   \n",
      "2024-10-15 00:00:00-04:00  137.869995  138.570007  128.740005  131.600006   \n",
      "\n",
      "                              Volume  Dividends  Stock Splits  \n",
      "Date                                                           \n",
      "2024-10-09 00:00:00-04:00  246191600        0.0           0.0  \n",
      "2024-10-10 00:00:00-04:00  242311300        0.0           0.0  \n",
      "2024-10-11 00:00:00-04:00  170209500        0.0           0.0  \n",
      "2024-10-14 00:00:00-04:00  232347700        0.0           0.0  \n",
      "2024-10-15 00:00:00-04:00  377831000        0.0           0.0  \n"
     ]
    }
   ],
   "source": [
    "print(nvda_data['income_stmt'])\n",
    "print(nvda_data['history'].head())"
   ]
  },
  {
   "cell_type": "markdown",
   "metadata": {},
   "source": [
    "1. Extract and Preprocess Data"
   ]
  },
  {
   "cell_type": "code",
   "execution_count": 31,
   "metadata": {},
   "outputs": [
    {
     "name": "stdout",
     "output_type": "stream",
     "text": [
      "                                           2024-01-31    2023-01-31  \\\n",
      "Tax Effect Of Unusual Items                       0.0  -284130000.0   \n",
      "Tax Rate For Calcs                               0.12          0.21   \n",
      "Normalized EBITDA                       35583000000.0  7340000000.0   \n",
      "Total Unusual Items                               0.0 -1353000000.0   \n",
      "Total Unusual Items Excluding Goodwill            0.0 -1353000000.0   \n",
      "\n",
      "                                           2022-01-31    2021-01-31  \n",
      "Tax Effect Of Unusual Items                       0.0           0.0  \n",
      "Tax Rate For Calcs                              0.019         0.017  \n",
      "Normalized EBITDA                       11351000000.0  5691000000.0  \n",
      "Total Unusual Items                               0.0           0.0  \n",
      "Total Unusual Items Excluding Goodwill            0.0           0.0  \n"
     ]
    }
   ],
   "source": [
    "# Check the structure of the income statement\n",
    "print(nvda_data['income_stmt'].head())"
   ]
  },
  {
   "cell_type": "code",
   "execution_count": 32,
   "metadata": {},
   "outputs": [
    {
     "name": "stdout",
     "output_type": "stream",
     "text": [
      "DatetimeIndex(['2024-01-31', '2023-01-31', '2022-01-31', '2021-01-31'], dtype='datetime64[ns]', freq=None)\n"
     ]
    }
   ],
   "source": [
    "# Print the column names to see if the fields are correct\n",
    "print(nvda_data['income_stmt'].columns)\n"
   ]
  },
  {
   "cell_type": "code",
   "execution_count": 33,
   "metadata": {},
   "outputs": [
    {
     "name": "stdout",
     "output_type": "stream",
     "text": [
      "EBITDA data is not available.\n"
     ]
    }
   ],
   "source": [
    "# Check if columns exist before accessing them\n",
    "if 'EBITDA' in nvda_data['income_stmt'].columns:\n",
    "    print(nvda_data['income_stmt']['EBITDA'])\n",
    "else:\n",
    "    print(\"EBITDA data is not available.\")\n"
   ]
  },
  {
   "cell_type": "code",
   "execution_count": 35,
   "metadata": {},
   "outputs": [],
   "source": [
    "def preprocess_stock_data(nvda_data):\n",
    "    # Extract historical data (e.g., last few days of stock data)\n",
    "    history = nvda_data['history'].tail(5)  # Last 5 days of data\n",
    "    history_summary = \"\\n\".join([f\"Date: {row.name}, Open: {row['Open']}, Close: {row['Close']}\" for index, row in history.iterrows()])\n",
    "\n",
    "    # Extract key financial metrics from the income statement\n",
    "    income_stmt = nvda_data['income_stmt'].tail(1)  # Latest available data\n",
    "    \n",
    "    # Safely extract the required financial metrics\n",
    "    ebitda = income_stmt['EBITDA'].values[0] if 'EBITDA' in income_stmt.columns else \"N/A\"\n",
    "    net_income = income_stmt['Net Income'].values[0] if 'Net Income' in income_stmt.columns else \"N/A\"\n",
    "    basic_eps = income_stmt['Basic EPS'].values[0] if 'Basic EPS' in income_stmt.columns else \"N/A\"\n",
    "    \n",
    "    financial_summary = f\"EBITDA: {ebitda}, Net Income: {net_income}, Basic EPS: {basic_eps}\"\n",
    "    \n",
    "    # Combine everything into one summary string\n",
    "    stock_summary = f\"Stock History:\\n{history_summary}\\n\\nFinancial Metrics:\\n{financial_summary}\"\n",
    "    \n",
    "    return stock_summary\n"
   ]
  },
  {
   "cell_type": "code",
   "execution_count": 36,
   "metadata": {},
   "outputs": [
    {
     "name": "stdout",
     "output_type": "stream",
     "text": [
      "Stock History:\n",
      "Date: 2024-11-04 00:00:00-05:00, Open: 137.2100067138672, Close: 136.0500030517578\n",
      "Date: 2024-11-05 00:00:00-05:00, Open: 137.4499969482422, Close: 139.91000366210938\n",
      "Date: 2024-11-06 00:00:00-05:00, Open: 142.9600067138672, Close: 145.61000061035156\n",
      "Date: 2024-11-07 00:00:00-05:00, Open: 146.38999938964844, Close: 148.8800048828125\n",
      "Date: 2024-11-08 00:00:00-05:00, Open: 148.77000427246094, Close: 147.6300048828125\n",
      "\n",
      "Financial Metrics:\n",
      "EBITDA: N/A, Net Income: N/A, Basic EPS: N/A\n"
     ]
    }
   ],
   "source": [
    "# Get preprocessed stock data summary\n",
    "stock_summary = preprocess_stock_data(nvda_data)\n",
    "print(stock_summary)"
   ]
  },
  {
   "cell_type": "markdown",
   "metadata": {},
   "source": [
    "2. Convert Data into Vector Embeddings"
   ]
  },
  {
   "cell_type": "code",
   "execution_count": 41,
   "metadata": {},
   "outputs": [
    {
     "data": {
      "text/plain": [
       "False"
      ]
     },
     "execution_count": 41,
     "metadata": {},
     "output_type": "execute_result"
    }
   ],
   "source": [
    "# Load environment variables from the .env file\n",
    "load_dotenv()"
   ]
  },
  {
   "cell_type": "code",
   "execution_count": 42,
   "metadata": {},
   "outputs": [],
   "source": [
    "# Retrieve the OpenAI API key from the environment variable\n",
    "openai.api_key = os.getenv(\"OPENAI_API_KEY\")"
   ]
  },
  {
   "cell_type": "code",
   "execution_count": 43,
   "metadata": {},
   "outputs": [
    {
     "name": "stderr",
     "output_type": "stream",
     "text": [
      "/tmp/ipykernel_906/3688640016.py:2: LangChainDeprecationWarning: The class `OpenAIEmbeddings` was deprecated in LangChain 0.0.9 and will be removed in 1.0. An updated version of the class exists in the :class:`~langchain-openai package and should be used instead. To use it run `pip install -U :class:`~langchain-openai` and import as `from :class:`~langchain_openai import OpenAIEmbeddings``.\n",
      "  embedding_model = OpenAIEmbeddings()\n"
     ]
    },
    {
     "ename": "ValidationError",
     "evalue": "1 validation error for OpenAIEmbeddings\n  Value error, Did not find openai_api_key, please add an environment variable `OPENAI_API_KEY` which contains it, or pass `openai_api_key` as a named parameter. [type=value_error, input_value={'model_kwargs': {}, 'cli...20, 'http_client': None}, input_type=dict]\n    For further information visit https://errors.pydantic.dev/2.9/v/value_error",
     "output_type": "error",
     "traceback": [
      "\u001b[0;31m---------------------------------------------------------------------------\u001b[0m",
      "\u001b[0;31mValidationError\u001b[0m                           Traceback (most recent call last)",
      "Cell \u001b[0;32mIn[43], line 2\u001b[0m\n\u001b[1;32m      1\u001b[0m \u001b[38;5;66;03m# Instantiate OpenAI Embeddings model\u001b[39;00m\n\u001b[0;32m----> 2\u001b[0m embedding_model \u001b[38;5;241m=\u001b[39m \u001b[43mOpenAIEmbeddings\u001b[49m\u001b[43m(\u001b[49m\u001b[43m)\u001b[49m\n\u001b[1;32m      4\u001b[0m \u001b[38;5;66;03m# Convert stock summary into embedding\u001b[39;00m\n\u001b[1;32m      5\u001b[0m stock_embedding \u001b[38;5;241m=\u001b[39m embedding_model\u001b[38;5;241m.\u001b[39membed([stock_summary])\n",
      "File \u001b[0;32m~/LLM-Augmentation/venv/lib/python3.10/site-packages/langchain_core/_api/deprecation.py:216\u001b[0m, in \u001b[0;36mdeprecated.<locals>.deprecate.<locals>.finalize.<locals>.warn_if_direct_instance\u001b[0;34m(self, *args, **kwargs)\u001b[0m\n\u001b[1;32m    214\u001b[0m     warned \u001b[38;5;241m=\u001b[39m \u001b[38;5;28;01mTrue\u001b[39;00m\n\u001b[1;32m    215\u001b[0m     emit_warning()\n\u001b[0;32m--> 216\u001b[0m \u001b[38;5;28;01mreturn\u001b[39;00m \u001b[43mwrapped\u001b[49m\u001b[43m(\u001b[49m\u001b[38;5;28;43mself\u001b[39;49m\u001b[43m,\u001b[49m\u001b[43m \u001b[49m\u001b[38;5;241;43m*\u001b[39;49m\u001b[43margs\u001b[49m\u001b[43m,\u001b[49m\u001b[43m \u001b[49m\u001b[38;5;241;43m*\u001b[39;49m\u001b[38;5;241;43m*\u001b[39;49m\u001b[43mkwargs\u001b[49m\u001b[43m)\u001b[49m\n",
      "File \u001b[0;32m~/LLM-Augmentation/venv/lib/python3.10/site-packages/pydantic/main.py:212\u001b[0m, in \u001b[0;36mBaseModel.__init__\u001b[0;34m(self, **data)\u001b[0m\n\u001b[1;32m    210\u001b[0m \u001b[38;5;66;03m# `__tracebackhide__` tells pytest and some other tools to omit this function from tracebacks\u001b[39;00m\n\u001b[1;32m    211\u001b[0m __tracebackhide__ \u001b[38;5;241m=\u001b[39m \u001b[38;5;28;01mTrue\u001b[39;00m\n\u001b[0;32m--> 212\u001b[0m validated_self \u001b[38;5;241m=\u001b[39m \u001b[38;5;28;43mself\u001b[39;49m\u001b[38;5;241;43m.\u001b[39;49m\u001b[43m__pydantic_validator__\u001b[49m\u001b[38;5;241;43m.\u001b[39;49m\u001b[43mvalidate_python\u001b[49m\u001b[43m(\u001b[49m\u001b[43mdata\u001b[49m\u001b[43m,\u001b[49m\u001b[43m \u001b[49m\u001b[43mself_instance\u001b[49m\u001b[38;5;241;43m=\u001b[39;49m\u001b[38;5;28;43mself\u001b[39;49m\u001b[43m)\u001b[49m\n\u001b[1;32m    213\u001b[0m \u001b[38;5;28;01mif\u001b[39;00m \u001b[38;5;28mself\u001b[39m \u001b[38;5;129;01mis\u001b[39;00m \u001b[38;5;129;01mnot\u001b[39;00m validated_self:\n\u001b[1;32m    214\u001b[0m     warnings\u001b[38;5;241m.\u001b[39mwarn(\n\u001b[1;32m    215\u001b[0m         \u001b[38;5;124m'\u001b[39m\u001b[38;5;124mA custom validator is returning a value other than `self`.\u001b[39m\u001b[38;5;130;01m\\n\u001b[39;00m\u001b[38;5;124m'\u001b[39m\n\u001b[1;32m    216\u001b[0m         \u001b[38;5;124m\"\u001b[39m\u001b[38;5;124mReturning anything other than `self` from a top level model validator isn\u001b[39m\u001b[38;5;124m'\u001b[39m\u001b[38;5;124mt supported when validating via `__init__`.\u001b[39m\u001b[38;5;130;01m\\n\u001b[39;00m\u001b[38;5;124m\"\u001b[39m\n\u001b[1;32m    217\u001b[0m         \u001b[38;5;124m'\u001b[39m\u001b[38;5;124mSee the `model_validator` docs (https://docs.pydantic.dev/latest/concepts/validators/#model-validators) for more details.\u001b[39m\u001b[38;5;124m'\u001b[39m,\n\u001b[1;32m    218\u001b[0m         category\u001b[38;5;241m=\u001b[39m\u001b[38;5;28;01mNone\u001b[39;00m,\n\u001b[1;32m    219\u001b[0m     )\n",
      "\u001b[0;31mValidationError\u001b[0m: 1 validation error for OpenAIEmbeddings\n  Value error, Did not find openai_api_key, please add an environment variable `OPENAI_API_KEY` which contains it, or pass `openai_api_key` as a named parameter. [type=value_error, input_value={'model_kwargs': {}, 'cli...20, 'http_client': None}, input_type=dict]\n    For further information visit https://errors.pydantic.dev/2.9/v/value_error"
     ]
    }
   ],
   "source": [
    "# Instantiate OpenAI Embeddings model\n",
    "embedding_model = OpenAIEmbeddings()\n",
    "\n",
    "# Convert stock summary into embedding\n",
    "stock_embedding = embedding_model.embed([stock_summary])\n",
    "print(stock_embedding)"
   ]
  },
  {
   "cell_type": "code",
   "execution_count": null,
   "metadata": {},
   "outputs": [],
   "source": [
    "# Convert the list of embeddings into a numpy array\n",
    "stock_embedding_np = np.array(stock_embedding)\n",
    "\n",
    "# Create FAISS index and store the embedding\n",
    "faiss_index = FAISS.from_embeddings(stock_embedding_np)\n",
    "\n",
    "# Optionally, store additional metadata with the embedding, such as ticker name\n",
    "faiss_index.add(stock_embedding_np, [\"NVDA\"])"
   ]
  },
  {
   "cell_type": "code",
   "execution_count": null,
   "metadata": {},
   "outputs": [],
   "source": [
    "# Query the FAISS index\n",
    "query = \"What is the current financial status of NVDA?\"\n",
    "response = faiss_index.similarity_search(query)\n",
    "\n",
    "# Print the response\n",
    "print(response)"
   ]
  }
 ],
 "metadata": {
  "kernelspec": {
   "display_name": "venv",
   "language": "python",
   "name": "python3"
  },
  "language_info": {
   "codemirror_mode": {
    "name": "ipython",
    "version": 3
   },
   "file_extension": ".py",
   "mimetype": "text/x-python",
   "name": "python",
   "nbconvert_exporter": "python",
   "pygments_lexer": "ipython3",
   "version": "3.10.12"
  },
  "orig_nbformat": 4
 },
 "nbformat": 4,
 "nbformat_minor": 2
}
